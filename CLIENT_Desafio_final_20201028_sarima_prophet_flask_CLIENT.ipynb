{
 "cells": [
  {
   "cell_type": "code",
   "execution_count": null,
   "metadata": {},
   "outputs": [],
   "source": [
    "#Series de tiempos\n",
    "#Prediccion de temperaturas\n",
    "  #https://medium.com/swlh/temperature-forecasting-with-arima-model-in-python-427b2d3bcb53 \n",
    "#Prediccion de series de spotify\n",
    "  #https://medium.com/analytics-vidhya/time-series-analysis-using-arima-and-lstm-in-python-and-keras-part1-f987e11f9f8c"
   ]
  },
  {
   "cell_type": "code",
   "execution_count": null,
   "metadata": {},
   "outputs": [],
   "source": [
    "#!pip install Flask"
   ]
  },
  {
   "cell_type": "code",
   "execution_count": 1,
   "metadata": {},
   "outputs": [],
   "source": [
    "# importando modulos necesarios\n",
    "\n",
    "import numpy as np\n",
    "import pandas as pd\n",
    "\n",
    "# Las que vamos a necesitar para hacer los llamados y para lidiar con los datos en formato json\n",
    "import requests\n",
    "from flask import  Flask, request, jsonify, render_template\n",
    "import json"
   ]
  },
  {
   "cell_type": "code",
   "execution_count": 2,
   "metadata": {},
   "outputs": [
    {
     "data": {
      "text/plain": [
       "{'Grafico_Diagonostics_SARIMA': 'Grafico_Diagnostics_SARIMA_PFE.png',\n",
       " 'Grafico_PROPHET': 'Grafico_PROPHET_PFE.png',\n",
       " 'Grafico_SARIMA': 'Grafico_SARIMA_PFE.png',\n",
       " 'Modelo_PROPHET': 'model_prophet_PFE.pkl',\n",
       " 'Modelo_SARIMA': 'model_sarima_PFE.pkl',\n",
       " 'Tiempo_Ejecucion_seg': 75.91}"
      ]
     },
     "metadata": {},
     "output_type": "display_data"
    }
   ],
   "source": [
    "# Definimos los datos que vamos a pasar en el request\n",
    "empresa_elegida ='PFE'\n",
    "fecha_inicio = '2019-01-01'\n",
    "fecha_fin = '2019-12-31'\n",
    "url = 'http://localhost:5000/analizar_empresa' #definimos la URL para hacer el llamado local con el endpoint correspondiente\n",
    "\n",
    "# Hacemos el pedido y vemos los resultados.\n",
    "# Si todo salió bien se tiene que haber guardado en la carpeta Data los modelos en formato pickle\n",
    "des = requests.post(url,\n",
    "                       json = {'empresa_elegida':empresa_elegida,\n",
    "                               'fecha_inicio':fecha_inicio,\n",
    "                               'fecha_fin':fecha_fin})\n",
    "display(des.json())"
   ]
  }
 ],
 "metadata": {
  "kernelspec": {
   "display_name": "Python 3",
   "language": "python",
   "name": "python3"
  },
  "language_info": {
   "codemirror_mode": {
    "name": "ipython",
    "version": 3
   },
   "file_extension": ".py",
   "mimetype": "text/x-python",
   "name": "python",
   "nbconvert_exporter": "python",
   "pygments_lexer": "ipython3",
   "version": "3.8.3"
  }
 },
 "nbformat": 4,
 "nbformat_minor": 4
}
